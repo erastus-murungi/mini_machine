{
 "cells": [
  {
   "cell_type": "code",
   "execution_count": 17,
   "id": "frequent-district",
   "metadata": {},
   "outputs": [],
   "source": [
    "import matplotlib.pyplot as plt\n",
    "import numpy as np\n",
    "from matplotlib import rc\n",
    "from math import hypot"
   ]
  },
  {
   "cell_type": "code",
   "execution_count": 15,
   "id": "sufficient-clear",
   "metadata": {},
   "outputs": [],
   "source": [
    "%matplotlib inline\n",
    "%config InlineBackend.figure_format = 'svg'\n",
    "rc('text', usetex=True)"
   ]
  },
  {
   "cell_type": "code",
   "execution_count": 21,
   "id": "sound-chile",
   "metadata": {},
   "outputs": [],
   "source": [
    "def closest_pair_2d(Px, Py, distance_function=hypot):\n",
    "    if len(Px) < 2:\n",
    "        return \n",
    "    \n",
    "    mid = len(Px) >> 1\n",
    "    d1 = closest_pair_2d(Px[:mid], Py[:mid])\n",
    "    d2 = closest_pair_2d(Px[mid:], Py[mid:])\n",
    "    \n",
    "    d = min(d1, d2)\n",
    "    \n",
    "    Sy = "
   ]
  },
  {
   "cell_type": "code",
   "execution_count": 8,
   "id": "incoming-gabriel",
   "metadata": {},
   "outputs": [],
   "source": []
  },
  {
   "cell_type": "code",
   "execution_count": 20,
   "id": "valuable-confidence",
   "metadata": {},
   "outputs": [],
   "source": [
    "?hypot"
   ]
  },
  {
   "cell_type": "code",
   "execution_count": null,
   "id": "ordinary-installation",
   "metadata": {},
   "outputs": [],
   "source": []
  }
 ],
 "metadata": {
  "kernelspec": {
   "display_name": "Python 3",
   "language": "python",
   "name": "python3"
  },
  "language_info": {
   "codemirror_mode": {
    "name": "ipython",
    "version": 3
   },
   "file_extension": ".py",
   "mimetype": "text/x-python",
   "name": "python",
   "nbconvert_exporter": "python",
   "pygments_lexer": "ipython3",
   "version": "3.9.2"
  }
 },
 "nbformat": 4,
 "nbformat_minor": 5
}
